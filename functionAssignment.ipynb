{
  "nbformat": 4,
  "nbformat_minor": 0,
  "metadata": {
    "colab": {
      "provenance": []
    },
    "kernelspec": {
      "name": "python3",
      "display_name": "Python 3"
    },
    "language_info": {
      "name": "python"
    }
  },
  "cells": [
    {
      "cell_type": "code",
      "execution_count": 10,
      "metadata": {
        "id": "ECmzKQ8QDtcp",
        "outputId": "bc3151ee-a8c5-4e9f-aff9-b0fb03ed925c",
        "colab": {
          "base_uri": "https://localhost:8080/"
        }
      },
      "outputs": [
        {
          "output_type": "stream",
          "name": "stdout",
          "text": [
            "9\n"
          ]
        }
      ],
      "source": [
        "# 1. Function to find the maximum of three numbers\n",
        "def max_of_three(a, b, c):\n",
        "    return max(a, b, c)\n",
        "\n",
        "print(max_of_three(3, 6, 9))"
      ]
    },
    {
      "cell_type": "code",
      "source": [
        "# 2. Function to sum all the numbers in a list\n",
        "def sum_list(numbers):\n",
        "    return sum(numbers)\n",
        "\n",
        "print(sum_list([8, 2, 3, 0, 7]))"
      ],
      "metadata": {
        "colab": {
          "base_uri": "https://localhost:8080/"
        },
        "id": "vHzI_pkSrv7T",
        "outputId": "cdab6d1b-7212-48cc-d5d9-fc3d9aeecd05"
      },
      "execution_count": 11,
      "outputs": [
        {
          "output_type": "stream",
          "name": "stdout",
          "text": [
            "20\n"
          ]
        }
      ]
    },
    {
      "cell_type": "code",
      "source": [
        "# 3. Function to multiply all the numbers in a list\n",
        "def multiply_list(numbers):\n",
        "    result = 1\n",
        "    for num in numbers:\n",
        "        result *= num\n",
        "    return result\n",
        "\n",
        "print(multiply_list([8, 2, 3, -1, 7]))"
      ],
      "metadata": {
        "id": "W3NjztYnDwGK",
        "colab": {
          "base_uri": "https://localhost:8080/"
        },
        "outputId": "1afccb1b-63e3-4e58-df78-fb38774ea8a2"
      },
      "execution_count": 12,
      "outputs": [
        {
          "output_type": "stream",
          "name": "stdout",
          "text": [
            "-336\n"
          ]
        }
      ]
    },
    {
      "cell_type": "code",
      "source": [
        "# 4. Program to reverse a string\n",
        "def reverse_string(s):\n",
        "    return s[::-1]\n",
        "\n",
        "print(reverse_string(\"1234abcd\"))"
      ],
      "metadata": {
        "colab": {
          "base_uri": "https://localhost:8080/"
        },
        "id": "oIh89O0_ryBb",
        "outputId": "a5a1ec47-f20f-45b9-fc32-7ac7951ae420"
      },
      "execution_count": 13,
      "outputs": [
        {
          "output_type": "stream",
          "name": "stdout",
          "text": [
            "dcba4321\n"
          ]
        }
      ]
    },
    {
      "cell_type": "code",
      "source": [
        "# 5. Function to calculate the factorial of a number\n",
        "def factorial(n):\n",
        "    if n == 0 or n == 1:\n",
        "        return 1\n",
        "    return n * factorial(n - 1)\n",
        "\n",
        "print(factorial(5))"
      ],
      "metadata": {
        "colab": {
          "base_uri": "https://localhost:8080/"
        },
        "id": "pNrsFoVPrx4w",
        "outputId": "efafc045-2eec-4bda-e985-edaee5a8bba0"
      },
      "execution_count": 14,
      "outputs": [
        {
          "output_type": "stream",
          "name": "stdout",
          "text": [
            "120\n"
          ]
        }
      ]
    },
    {
      "cell_type": "code",
      "source": [
        "# 6. Function to check if a number is in a range\n",
        "def is_in_range(number, start, end):\n",
        "    return start <= number <= end\n",
        "\n",
        "print(is_in_range(5, 1, 10))"
      ],
      "metadata": {
        "colab": {
          "base_uri": "https://localhost:8080/"
        },
        "id": "AiX1q1BTrx17",
        "outputId": "daeea0a9-68a5-43eb-f6c0-d85f54fd7845"
      },
      "execution_count": 15,
      "outputs": [
        {
          "output_type": "stream",
          "name": "stdout",
          "text": [
            "True\n"
          ]
        }
      ]
    },
    {
      "cell_type": "code",
      "source": [
        "# 7. Function to count upper and lower case letters in a string\n",
        "def count_case(s):\n",
        "    upper_count = sum(1 for c in s if c.isupper())\n",
        "    lower_count = sum(1 for c in s if c.islower())\n",
        "    return {\"upper\": upper_count, \"lower\": lower_count}\n",
        "\n",
        "print(count_case(\"The quick Brow Fox\"))"
      ],
      "metadata": {
        "colab": {
          "base_uri": "https://localhost:8080/"
        },
        "id": "NL0wNds3rxzw",
        "outputId": "9b3fa73a-471e-4739-dc10-037862f21cc5"
      },
      "execution_count": 16,
      "outputs": [
        {
          "output_type": "stream",
          "name": "stdout",
          "text": [
            "{'upper': 3, 'lower': 12}\n"
          ]
        }
      ]
    },
    {
      "cell_type": "code",
      "source": [
        "# 8. Function to return a list of distinct elements\n",
        "def unique_list(lst):\n",
        "    return list(set(lst))\n",
        "\n",
        "print(unique_list([1, 2, 3, 3, 3, 3, 4, 5]))"
      ],
      "metadata": {
        "colab": {
          "base_uri": "https://localhost:8080/"
        },
        "id": "AQoJsOQZta3I",
        "outputId": "5f126933-9a5e-40aa-e64b-6e622b6d8a00"
      },
      "execution_count": 17,
      "outputs": [
        {
          "output_type": "stream",
          "name": "stdout",
          "text": [
            "[1, 2, 3, 4, 5]\n"
          ]
        }
      ]
    },
    {
      "cell_type": "code",
      "source": [
        "# 9. Function to check if a number is prime\n",
        "def is_prime(n):\n",
        "    if n <= 1:\n",
        "        return False\n",
        "    for i in range(2, int(n**0.5) + 1):\n",
        "        if n % i == 0:\n",
        "            return False\n",
        "    return True\n",
        "\n",
        "print(is_prime(29))"
      ],
      "metadata": {
        "colab": {
          "base_uri": "https://localhost:8080/"
        },
        "id": "pdIMMQl1tfAg",
        "outputId": "097cbe79-f500-4e06-96dd-a4ee6da3c2d2"
      },
      "execution_count": 18,
      "outputs": [
        {
          "output_type": "stream",
          "name": "stdout",
          "text": [
            "True\n"
          ]
        }
      ]
    },
    {
      "cell_type": "code",
      "source": [
        "# 10. Program to print even numbers from a given list\n",
        "def get_even_numbers(lst):\n",
        "    return [num for num in lst if num % 2 == 0]\n",
        "\n",
        "print(get_even_numbers([1, 2, 3, 4, 5, 6, 7, 8, 9]))"
      ],
      "metadata": {
        "colab": {
          "base_uri": "https://localhost:8080/"
        },
        "id": "jh6zl8Vute9E",
        "outputId": "69113e5a-dfdb-44f5-86f4-2169625c4a56"
      },
      "execution_count": 19,
      "outputs": [
        {
          "output_type": "stream",
          "name": "stdout",
          "text": [
            "[2, 4, 6, 8]\n"
          ]
        }
      ]
    },
    {
      "cell_type": "code",
      "source": [
        "# 11. Function to check if a number is perfect\n",
        "def is_perfect_number(n):\n",
        "    divisors = [i for i in range(1, n) if n % i == 0]\n",
        "    return sum(divisors) == n\n",
        "\n",
        "print(is_perfect_number(8))"
      ],
      "metadata": {
        "colab": {
          "base_uri": "https://localhost:8080/"
        },
        "id": "uLVbYYHcrxwk",
        "outputId": "fbe487ac-184d-4a5f-985d-7d887f8ba995"
      },
      "execution_count": 20,
      "outputs": [
        {
          "output_type": "stream",
          "name": "stdout",
          "text": [
            "False\n"
          ]
        }
      ]
    },
    {
      "cell_type": "code",
      "source": [
        "# 12. Function to check if a string is a palindrome\n",
        "def is_palindrome(s):\n",
        "    s = ''.join(c.lower() for c in s if c.isalnum())\n",
        "    return s == s[::-1]\n",
        "\n",
        "print(is_palindrome(\"madam\"))\n",
        "print(is_palindrome(\"civic\"))"
      ],
      "metadata": {
        "colab": {
          "base_uri": "https://localhost:8080/"
        },
        "id": "APCtSg5itxXc",
        "outputId": "19a05a70-7516-4c16-f3e3-9b72bf438e78"
      },
      "execution_count": 21,
      "outputs": [
        {
          "output_type": "stream",
          "name": "stdout",
          "text": [
            "True\n",
            "True\n"
          ]
        }
      ]
    },
    {
      "cell_type": "code",
      "source": [],
      "metadata": {
        "id": "Ycirj5lrtxT2"
      },
      "execution_count": null,
      "outputs": []
    }
  ]
}